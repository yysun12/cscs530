{
 "metadata": {
  "name": "",
  "signature": "sha256:0774944803003067de4f6eed4ad37f0db6e5387712ba44b0933b1bf39d37e1d0"
 },
 "nbformat": 3,
 "nbformat_minor": 0,
 "worksheets": [
  {
   "cells": [
    {
     "cell_type": "code",
     "collapsed": false,
     "input": [
      "\"\"\"\n",
      "construct a space with neighbors and set a random converting rate\n",
      "\"\"\"\n",
      "            "
     ],
     "language": "python",
     "metadata": {},
     "outputs": [],
     "prompt_number": 0
    },
    {
     "cell_type": "code",
     "collapsed": false,
     "input": [
      "%matplotlib inline\n",
      "import copy\n",
      "import itertools\n",
      "\n",
      "import numpy\n",
      "import matplotlib.pyplot as plt\n",
      "import pandas\n",
      "\n",
      "import seaborn; seaborn.set()\n",
      "\n",
      "from IPython.html.widgets import *"
     ],
     "language": "python",
     "metadata": {},
     "outputs": [],
     "prompt_number": 1
    },
    {
     "cell_type": "code",
     "collapsed": false,
     "input": [
      "\"\"\"\n",
      "set up the grid initially, will be three kinds of ppl, type 1, type 2 and type 3. \n",
      "grid_size: number of cells per row or column\n",
      "group1_proportion: percentage of household that will be of type 1\n",
      "group2_proportion - group1_proportion: percentage of household that will be of type 2\n",
      "density: percentage of grid cells that will be populated with a household\n",
      "\n",
      "We will have two judgements here: \n",
      "first draw a random value from (0,1) to compare with density to see if we want to fill the cell\n",
      "Second draw a random value and compare to group_proportion to determine type of household\n",
      "\"\"\"\n"
     ],
     "language": "python",
     "metadata": {},
     "outputs": [
      {
       "metadata": {},
       "output_type": "pyout",
       "prompt_number": 9,
       "text": [
        "'\\nset up the grid initially, will be three kinds of ppl, type 1, type 2 and type 3. \\ngrid_size: number of cells per row or column\\ngroup1_proportion: percentage of household that will be of type 1\\ngroup2_proportion - group1_proportion: percentage of household that will be of type 2\\ndensity: percentage of grid cells that will be populated with a household\\n\\nWe will have two judgements here: \\nfirst draw a random value from (0,1) to compare with density to see if we want to fill the cell\\nSecond draw a random value and compare to group_proportion to determine type of household\\n'"
       ]
      }
     ],
     "prompt_number": 9
    },
    {
     "cell_type": "code",
     "collapsed": false,
     "input": [
      "#set parameters\n",
      "grid_size = 30\n",
      "group1_proportion = 0.25\n",
      "group2_proportion = 0.75\n",
      "density = 0.25\n",
      "\n",
      "#create space and activate random cells\n",
      "space = numpy.zeros((grid_size,grid_size),dtype = numpy.int8)\n",
      "\n",
      "#then sample agents\n",
      "for row_id in range(grid_size):\n",
      "    for column_id in range(grid_size):\n",
      "        #determine if fill or not\n",
      "        if numpy.random.random()<=density:\n",
      "            #determine household type\n",
      "            if numpy.random.random()<=group1_proportion:\n",
      "                cell_type = 1\n",
      "            elif group2_proportion >= numpy.random.random()>group1_proportion:\n",
      "                cell_type = 2\n",
      "            else:\n",
      "                cell_type = 3\n",
      "            \n",
      "            space[row_id,column_id] = cell_type\n",
      "\n",
      "            \n",
      "f = plt.figure()\n",
      "p = plt.pcolor(space,snap=True)\n",
      "c = plt.colorbar()\n",
      "# we rewrite the statements above into a function called initialize_space()"
     ],
     "language": "python",
     "metadata": {},
     "outputs": [
      {
       "metadata": {},
       "output_type": "display_data",
       "png": "[encoded data removed]",
       "text": [
        "<matplotlib.figure.Figure at 0x10948e950>"
       ]
      }
     ],
     "prompt_number": 2
    },
    {
     "cell_type": "code",
     "collapsed": false,
     "input": [
      "def initialize_space(grid_size, group1_proportion, group2_proportion, density):\n",
      "    \n",
      "    space = numpy.zeros((grid_size,grid_size),dtype = numpy.int8)\n",
      "    \n",
      "    for row_id in range(grid_size):\n",
      "        for column_id in range(grid_size):\n",
      "        #determine if fill or not\n",
      "            if numpy.random.random()<=density:\n",
      "            #determine household type\n",
      "                if numpy.random.random()<=group1_proportion:\n",
      "                    cell_type = 1\n",
      "                elif group2_proportion >= numpy.random.random()>group1_proportion:\n",
      "                    cell_type = 2\n",
      "                else:\n",
      "                    cell_type = 3\n",
      "            \n",
      "            space[row_id,column_id] = cell_type\n",
      "    return space"
     ],
     "language": "python",
     "metadata": {},
     "outputs": [],
     "prompt_number": 6
    },
    {
     "cell_type": "code",
     "collapsed": false,
     "input": [
      "# we create another function to visualize the space\n",
      "def display_space(grid_size,group1_proportion,group2_proportion,density):\n",
      "    assert (grid_size > 1)\n",
      "    assert (group1_proportion >= 0)\n",
      "    assert (group1_proportion <= 1)\n",
      "    assert (group2_proportion >= 0)\n",
      "    assert (group2_proportion <= 1)\n",
      "    assert (density >= 0)\n",
      "    assert (density <= 1)\n",
      "    \n",
      "    space = initialize_space(grid_size,group1_proportion,group2_proportion,density)\n",
      "    \n",
      "    f = plt.figure()\n",
      "    p = plt.pcolor(space)\n",
      "    c = plt.colorbar()\n",
      "    \n"
     ],
     "language": "python",
     "metadata": {},
     "outputs": [],
     "prompt_number": 7
    },
    {
     "cell_type": "code",
     "collapsed": false,
     "input": [
      "def run_model_step(space,random_proportion):\n",
      "    space = copy.copy(space)\n",
      "    grid_size = 20\n",
      "    id_list = []\n",
      "    \n",
      "    # record a list of occupied cells\n",
      "    household_list = numpy.column_stack(numpy.where(space>0))\n",
      "    \n",
      "    # define a subgroup of the popoluation that is randomly selected as a proporiton of the original population\n",
      "    subgroup_size = int(random_proportion * len(household_list))\n",
      "\n",
      "    i=0\n",
      "    while i<subgroup_size:\n",
      "        household_id=numpy.random.choice(range(len(household_list)))\n",
      "        if household_id not in id_list:\n",
      "            id_list = id_list + [household_id]\n",
      "            i += 1\n",
      "        row,column = household_list[household_id]\n",
      "        household_type = space[row,column]\n",
      "\n",
      "        # within the selected subgroup, change type from 1 to 2, 2 to 3 and 3 to 1. \n",
      "        if household_type==1 or household_type == 2:\n",
      "            household_type += 1\n",
      "        else:\n",
      "            household_type=1\n",
      "\n",
      "    #change household type if selected\n",
      "\n"
     ],
     "language": "python",
     "metadata": {},
     "outputs": [],
     "prompt_number": 8
    },
    {
     "cell_type": "code",
     "collapsed": false,
     "input": [
      "#set parameters\n",
      "grid_size=30\n",
      "group1_proportion = 0.3\n",
      "group2_proportion = 0.6\n",
      "density = 0.5\n",
      "random_proportion = 0.1\n",
      "max_steps=2000\n",
      "\n",
      "#initialize space\n",
      "space = initialize_space(grid_size,group1_proportion, group2_proportion, density)\n",
      "\n",
      "#setup space\n",
      "space_history = [space]\n",
      "\n",
      "#iterate\n",
      "for i in range(max_steps):\n",
      "    #append space history\n",
      "    space_history.append(run_model_step(space_history[-1],random_proportion))"
     ],
     "language": "python",
     "metadata": {},
     "outputs": [],
     "prompt_number": 16
    },
    {
     "cell_type": "code",
     "collapsed": false,
     "input": [
      "def display_space_step(step=1):\n",
      "    f = plt.figure()\n",
      "    plt.pcolor(space_history[step])\n",
      "    ax=f.gca()\n",
      "    ax.set_aspect(1./ax.get_data_ratio())"
     ],
     "language": "python",
     "metadata": {},
     "outputs": [],
     "prompt_number": 17
    },
    {
     "cell_type": "code",
     "collapsed": false,
     "input": [
      "interact(display_space_step,step=IntSliderWidget(min=1,max=len(space_history)-1,step=1))"
     ],
     "language": "python",
     "metadata": {},
     "outputs": [
      {
       "metadata": {},
       "output_type": "pyout",
       "prompt_number": 15,
       "text": [
        "<function __main__.display_space_step>"
       ]
      },
      {
       "metadata": {},
       "output_type": "display_data",
       "png": "[encoded data removed]",
       "text": [
        "<matplotlib.figure.Figure at 0x104467290>"
       ]
      }
     ],
     "prompt_number": 15
    },
    {
     "cell_type": "code",
     "collapsed": false,
     "input": [],
     "language": "python",
     "metadata": {},
     "outputs": []
    }
   ],
   "metadata": {}
  }
 ]
}