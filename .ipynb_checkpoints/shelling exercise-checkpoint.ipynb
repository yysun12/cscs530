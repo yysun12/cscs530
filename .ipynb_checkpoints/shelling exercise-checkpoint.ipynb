{
 "metadata": {
  "name": "",
  "signature": "sha256:d0a0f35a449a14e8929b22c738a0c468e34a97daad62f49e827607a59137fc1c"
 },
 "nbformat": 3,
 "nbformat_minor": 0,
 "worksheets": []
}